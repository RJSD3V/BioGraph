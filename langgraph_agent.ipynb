{
 "cells": [
  {
   "cell_type": "markdown",
   "id": "eed014a2",
   "metadata": {},
   "source": [
    "# A Simple Workflow implemented in Langgraph\n",
    "\n",
    "- Langgraph is a sleek workflow used to build agents in a graph like paradigm. "
   ]
  },
  {
   "cell_type": "markdown",
   "id": "dfba56b4",
   "metadata": {},
   "source": [
    " Importing all necessary modules."
   ]
  },
  {
   "cell_type": "code",
   "execution_count": 1,
   "id": "5840bd94",
   "metadata": {},
   "outputs": [
    {
     "name": "stderr",
     "output_type": "stream",
     "text": [
      "/Users/raajassode/dev/genai/biograph/venv/lib/python3.13/site-packages/IPython/core/interactiveshell.py:3670: LangChainDeprecationWarning: As of langchain-core 0.3.0, LangChain uses pydantic v2 internally. The langchain.pydantic_v1 module was a compatibility shim for pydantic v1, and should no longer be used. Please update the code to import from Pydantic directly.\n",
      "\n",
      "For example, replace imports like: `from langchain.pydantic_v1 import BaseModel`\n",
      "with: `from pydantic import BaseModel`\n",
      "or the v1 compatibility namespace if you are working in a code base that has not been fully upgraded to pydantic 2 yet. \tfrom pydantic.v1 import BaseModel\n",
      "\n",
      "  exec(code_obj, self.user_global_ns, self.user_ns)\n"
     ]
    }
   ],
   "source": [
    "from typing import Annotated\n",
    "from typing import Any\n",
    "from typing_extensions import TypedDict\n",
    "import os, json, logging\n",
    "from neo4j import GraphDatabase\n",
    "\n",
    "#Langgraph and Langchain dependencies. \n",
    "from langgraph.graph import StateGraph, START, END\n",
    "from langgraph.graph.message import add_messages\n",
    "#from langchain_anthropic import ChatAnthropic\n",
    "from langchain_ollama import ChatOllama\n",
    "from langchain_core.messages import ToolMessage\n",
    "from langchain.pydantic_v1 import BaseModel, Field\n",
    "from langchain.tools import BaseTool, StructuredTool, tool\n",
    "from langchain_core.messages import HumanMessage, AIMessage\n",
    "from langchain_core.prompts import PromptTemplate\n",
    "from langchain_core.output_parsers import JsonOutputParser\n",
    "from langchain_core.runnables.graph_mermaid import draw_mermaid_png\n",
    "\n",
    "#Manage Environment Variables. \n",
    "from dotenv import load_dotenv\n",
    "\n",
    "load_dotenv()\n",
    "auradb_conn=os.environ[\"AURADB_CONN\"]\n",
    "auradb_username = os.environ[\"AURADB_USERNAME\"]\n",
    "auradb_password = os.environ[\"AURADB_PASSWORD\"]"
   ]
  },
  {
   "cell_type": "markdown",
   "id": "26a70a00",
   "metadata": {},
   "source": [
    "# Generate chat response using local LLMs\n",
    "\n",
    "- We've installed Ollama locally to get access to cutting edge instruct models. \n",
    "- The ollama interface allows us to generate responses by loading these large language models locally.\n",
    "- In this case we'll check out what kind of prompts we'll be giving models as inputs to generate outputs we can utilize. "
   ]
  },
  {
   "cell_type": "code",
   "execution_count": 2,
   "id": "739c838f",
   "metadata": {},
   "outputs": [],
   "source": [
    "passage = \"\"\"\n",
    "In the tropical rainforest ecosystem, several species exhibit a variety of biological relationships that illustrate evolutionary, ecological, and taxonomic connections. The Jaguar (Panthera onca) is a top predator and preys upon the Capybara (Hydrochoerus hydrochaeris) and the Green Anaconda (Eunectes murinus). Both the Capybara and Green Anaconda share the same wetland habitat, demonstrating ecological co-occurrence.\n",
    "The Green Anaconda often competes with the Harpy Eagle (Harpia harpyja) for prey such as the Howler Monkey (Alouatta palliata). The Howler Monkey, an arboreal primate, is closely related to the Spider Monkey (Ateles geoffroyi), with both belonging to the family Atelidae. This taxonomic relationship indicates a common evolutionary ancestor.\n",
    "The Harpy Eagle also preys on the Sloth (Bradypus variegatus), which has a mutualistic relationship with several species of algae, such as Trentepohlia spp., that grow on its fur, providing camouflage. Additionally, the Sloth shares a symbiotic relationship with the Moth (Cryptoses choloepi), which uses the sloth’s fur for habitat.\n",
    "From an evolutionary standpoint, the Capybara and the Jaguar belong to different orders: Rodentia and Carnivora, respectively, reflecting deep phylogenetic divergence. The Sloth is taxonomically grouped within the order Pilosa, distinct from the other mammals mentioned.\n",
    "Together, these species form a complex web of predation, competition, symbiosis, and shared evolutionary history, making the tropical rainforest a dynamic and interconnected ecosystem.\n",
    "\"\"\"\n",
    " "
   ]
  },
  {
   "cell_type": "code",
   "execution_count": null,
   "id": "bdc5ebb7",
   "metadata": {},
   "outputs": [],
   "source": []
  },
  {
   "cell_type": "markdown",
   "id": "2bad68a0",
   "metadata": {},
   "source": [
    "## Defining the State Variable \n",
    "\n",
    "- An extension of TypedDict, which encapsulates the state of the Graph, which is essentially a list of all the messages, with a reducer function which is called everytime a new message is added.\n",
    "- All nodes rely on the state to function. Each node takes an input and changes teh state of the applicaiton as the graph progresses. "
   ]
  },
  {
   "cell_type": "code",
   "execution_count": 3,
   "id": "f3d77f67",
   "metadata": {},
   "outputs": [],
   "source": [
    "class State(TypedDict):\n",
    "    text: str  # Original input\n",
    "    json: dict  # LLM output\n",
    "    messages: Annotated[list, add_messages]\n"
   ]
  },
  {
   "cell_type": "markdown",
   "id": "8a8c0d66",
   "metadata": {},
   "source": [
    "## Defining the Nodes\n",
    "\n",
    "- Nodes are defined in Langgraph as Units of work. \n",
    "- The LLM can invoke these tools as per it's understanding (It reads the docstring) and calls tools based on teh flow of the application. "
   ]
  },
  {
   "cell_type": "code",
   "execution_count": 4,
   "id": "de596a18",
   "metadata": {},
   "outputs": [],
   "source": [
    "def push_graph(state:State) -> Any:\n",
    "\n",
    "    \"\"\" Push the json object with nodes and relationsips between entities to an AuraDB Graph database instance\n",
    "\n",
    "    Args:\n",
    "         graph : json object/ Python dictionary that has the graph data stored. with nodes and relationships.\n",
    "\n",
    "    Returns:\n",
    "          str : Indicates whether graph push was successful\n",
    "\n",
    "    \"\"\"\n",
    "\n",
    "    AURA_CONNECTION_URI = auradb_conn\n",
    "    AURA_USERNAME = \"neo4j\"\n",
    "    AURA_PASSWORD = auradb_password\n",
    "\n",
    "    # Driver instantiation\n",
    "    driver = GraphDatabase.driver(\n",
    "        AURA_CONNECTION_URI,\n",
    "        auth=(AURA_USERNAME, AURA_PASSWORD)\n",
    "    )\n",
    "\n",
    "    import uuid\n",
    "\n",
    "    input_data = state[\"json\"] # Your provided JSON here\n",
    "    \n",
    "    # Transform nodes\n",
    "    nodes = {item[\"node\"]: {\"id\": str(uuid.uuid4())} for item in input_data}\n",
    "\n",
    "    # Transform relationships\n",
    "    relationships = []\n",
    "    for item in input_data:\n",
    "        source_node = item[\"node\"]\n",
    "        for rel in item[\"relationships\"]:\n",
    "            relationships.append({\n",
    "                \"source\": source_node,\n",
    "                \"target\": rel.get(\"target\", rel.get(\"source\")),\n",
    "                \"type\": rel[\"type\"].upper().replace(\" \", \"_\")\n",
    "            })\n",
    "\n",
    "\n",
    "    def create_graph(tx):\n",
    "        # Create nodes with unique IDs\n",
    "        for name, props in nodes.items():\n",
    "            nodes_result = tx.run(\"\"\"\n",
    "                MERGE (n:Species {name: $name})\n",
    "                SET n.id = $id\n",
    "            \"\"\", name=name, id=props[\"id\"])\n",
    "\n",
    "        # Create relationships\n",
    "        for rel in relationships:\n",
    "            relationships_result = tx.run(\"\"\"\n",
    "                MATCH (a:Species {name: $source}), (b:Species {name: $target})\n",
    "                MERGE (a)-[r:RELATES_TO {type: $type}]->(b)\n",
    "            \"\"\", source=rel[\"source\"], target=rel[\"target\"], type=rel[\"type\"])\n",
    "    \n",
    "        return {\"nodes\": nodes_result.consume(), \"relationships\": relationships_result.consume()}\n",
    "\n",
    "    \n",
    "    try:\n",
    "        with driver.session() as session:\n",
    "            summary = session.execute_write(create_graph)\n",
    "        \n",
    "            \n",
    "            return{\"messages\":{\"role\":\"assistant\",\"content\":f\"Graph push successful with {summary['nodes'].counters} nodes and {summary['relationships'].counters}\"}}\n",
    "        \n",
    "    except Exception as e:\n",
    "        return{\"messages\":{\"role\":\"assistant\",\"content\":f\"Graph push failed with error: {str(e)}\"\n",
    "            }}\n",
    "    \n",
    "    \n",
    "    \n"
   ]
  },
  {
   "cell_type": "code",
   "execution_count": 5,
   "id": "25efcec8",
   "metadata": {},
   "outputs": [],
   "source": [
    "\n",
    "llm = ChatOllama(model=\"mistral:instruct\")"
   ]
  },
  {
   "cell_type": "code",
   "execution_count": 11,
   "id": "a1b144f4",
   "metadata": {},
   "outputs": [],
   "source": [
    "def process_passage(state:State):\n",
    "    prompt = PromptTemplate.from_template(\"\"\"For the following passage, give me ONLY a serialized json object that \n",
    "    describes the relationship between the species, compatible with a graph data structure. \n",
    "    For example a graph relationship: Lion --> (predator) --> Antelope should output a serialized json string \\n\n",
    "\n",
    "    the passage starts from the next line \\n {text} \\n\n",
    "\n",
    "\n",
    "    *** Requirements ***\n",
    "\n",
    "        - Only return the json object. Nothing else.\n",
    "        - each node relationship should have only one source or target. Not a list. \n",
    "        - Add any node and relationship properties (ecosystem, etc.) based on the passage\n",
    "\n",
    "    *** Example output for a relationship ***\n",
    "\n",
    "    {{\n",
    "       \"node\": \"Jaguar\",\n",
    "       \"relationships\": [\n",
    "         {{\n",
    "           \"type\": \"predator\",\n",
    "           \"target\": \"Capybara\"\n",
    "         }}\n",
    "       ]\n",
    "     }}\n",
    "\n",
    "    \"\"\")\n",
    "    \n",
    "    formatted_prompt = prompt.format(text=state[\"text\"])\n",
    "    response = llm.invoke(formatted_prompt)\n",
    "    parser = JsonOutputParser()\n",
    "    payload = {\"prompt\":response.content,\"json\":parser.parse(response.content)}\n",
    "    print(parser.parse(response.content))\n",
    "    return {\n",
    "        \"prompt\": response.content,\n",
    "        \"json\": parser.parse(response.content),\n",
    "        \"messages\": {\"role\":\"assistant\",\"content\":f\"Graph created Successfully: \\n {payload}\"}\n",
    "    }\n",
    "    "
   ]
  },
  {
   "cell_type": "code",
   "execution_count": 12,
   "id": "40a6e01e",
   "metadata": {},
   "outputs": [],
   "source": [
    "graph_builder = StateGraph(State)\n",
    "\n",
    "# Nodes\n",
    "graph_builder.add_node(\"process_passage\", process_passage)\n",
    "graph_builder.add_node(\"push_graph\", push_graph)\n",
    "\n",
    "# Edges\n",
    "graph_builder.add_edge(\"process_passage\", \"push_graph\")\n",
    "\n",
    "# Entry/Exit\n",
    "graph_builder.set_entry_point(\"process_passage\")\n",
    "graph_builder.set_finish_point(\"push_graph\")  # Proper termination\n",
    "\n",
    "graph = graph_builder.compile()"
   ]
  },
  {
   "cell_type": "code",
   "execution_count": 13,
   "id": "3c4476cc",
   "metadata": {},
   "outputs": [
    {
     "name": "stdout",
     "output_type": "stream",
     "text": [
      "---\n",
      "config:\n",
      "  flowchart:\n",
      "    curve: linear\n",
      "---\n",
      "graph TD;\n",
      "\t__start__([<p>__start__</p>]):::first\n",
      "\tprocess_passage(process_passage)\n",
      "\tpush_graph(push_graph)\n",
      "\t__end__([<p>__end__</p>]):::last\n",
      "\t__start__ --> process_passage;\n",
      "\tprocess_passage --> push_graph;\n",
      "\tpush_graph --> __end__;\n",
      "\tclassDef default fill:#f2f0ff,line-height:1.2\n",
      "\tclassDef first fill-opacity:0\n",
      "\tclassDef last fill:#bfb6fc\n",
      "\n"
     ]
    }
   ],
   "source": [
    "from IPython.display import Image, display\n",
    "\n",
    "mermaid_code = graph.get_graph().draw_mermaid()\n",
    "print(mermaid_code)"
   ]
  },
  {
   "cell_type": "code",
   "execution_count": 14,
   "id": "c5c1afae",
   "metadata": {},
   "outputs": [
    {
     "data": {
      "text/html": [
       "<svg id=\"mermaid-svg\" width=\"100%\" xmlns=\"http://www.w3.org/2000/svg\" class=\"flowchart\" style=\"max-width: 171.421875px;\" viewBox=\"0 0 171.421875 332.75\" role=\"graphics-document document\" aria-roledescription=\"flowchart-v2\" xmlns:xlink=\"http://www.w3.org/1999/xlink\"><style xmlns=\"http://www.w3.org/1999/xhtml\">@import url(\"https://cdnjs.cloudflare.com/ajax/libs/font-awesome/6.7.2/css/all.min.css\");</style><style>#mermaid-svg{font-family:\"trebuchet ms\",verdana,arial,sans-serif;font-size:16px;fill:#333;}@keyframes edge-animation-frame{from{stroke-dashoffset:0;}}@keyframes dash{to{stroke-dashoffset:0;}}#mermaid-svg .edge-animation-slow{stroke-dasharray:9,5!important;stroke-dashoffset:900;animation:dash 50s linear infinite;stroke-linecap:round;}#mermaid-svg .edge-animation-fast{stroke-dasharray:9,5!important;stroke-dashoffset:900;animation:dash 20s linear infinite;stroke-linecap:round;}#mermaid-svg .error-icon{fill:#552222;}#mermaid-svg .error-text{fill:#552222;stroke:#552222;}#mermaid-svg .edge-thickness-normal{stroke-width:1px;}#mermaid-svg .edge-thickness-thick{stroke-width:3.5px;}#mermaid-svg .edge-pattern-solid{stroke-dasharray:0;}#mermaid-svg .edge-thickness-invisible{stroke-width:0;fill:none;}#mermaid-svg .edge-pattern-dashed{stroke-dasharray:3;}#mermaid-svg .edge-pattern-dotted{stroke-dasharray:2;}#mermaid-svg .marker{fill:#333333;stroke:#333333;}#mermaid-svg .marker.cross{stroke:#333333;}#mermaid-svg svg{font-family:\"trebuchet ms\",verdana,arial,sans-serif;font-size:16px;}#mermaid-svg p{margin:0;}#mermaid-svg .label{font-family:\"trebuchet ms\",verdana,arial,sans-serif;color:#333;}#mermaid-svg .cluster-label text{fill:#333;}#mermaid-svg .cluster-label span{color:#333;}#mermaid-svg .cluster-label span p{background-color:transparent;}#mermaid-svg .label text,#mermaid-svg span{fill:#333;color:#333;}#mermaid-svg .node rect,#mermaid-svg .node circle,#mermaid-svg .node ellipse,#mermaid-svg .node polygon,#mermaid-svg .node path{fill:#ECECFF;stroke:#9370DB;stroke-width:1px;}#mermaid-svg .rough-node .label text,#mermaid-svg .node .label text,#mermaid-svg .image-shape .label,#mermaid-svg .icon-shape .label{text-anchor:middle;}#mermaid-svg .node .katex path{fill:#000;stroke:#000;stroke-width:1px;}#mermaid-svg .rough-node .label,#mermaid-svg .node .label,#mermaid-svg .image-shape .label,#mermaid-svg .icon-shape .label{text-align:center;}#mermaid-svg .node.clickable{cursor:pointer;}#mermaid-svg .root .anchor path{fill:#333333!important;stroke-width:0;stroke:#333333;}#mermaid-svg .arrowheadPath{fill:#333333;}#mermaid-svg .edgePath .path{stroke:#333333;stroke-width:2.0px;}#mermaid-svg .flowchart-link{stroke:#333333;fill:none;}#mermaid-svg .edgeLabel{background-color:rgba(232,232,232, 0.8);text-align:center;}#mermaid-svg .edgeLabel p{background-color:rgba(232,232,232, 0.8);}#mermaid-svg .edgeLabel rect{opacity:0.5;background-color:rgba(232,232,232, 0.8);fill:rgba(232,232,232, 0.8);}#mermaid-svg .labelBkg{background-color:rgba(232, 232, 232, 0.5);}#mermaid-svg .cluster rect{fill:#ffffde;stroke:#aaaa33;stroke-width:1px;}#mermaid-svg .cluster text{fill:#333;}#mermaid-svg .cluster span{color:#333;}#mermaid-svg div.mermaidTooltip{position:absolute;text-align:center;max-width:200px;padding:2px;font-family:\"trebuchet ms\",verdana,arial,sans-serif;font-size:12px;background:hsl(80, 100%, 96.2745098039%);border:1px solid #aaaa33;border-radius:2px;pointer-events:none;z-index:100;}#mermaid-svg .flowchartTitleText{text-anchor:middle;font-size:18px;fill:#333;}#mermaid-svg rect.text{fill:none;stroke-width:0;}#mermaid-svg .icon-shape,#mermaid-svg .image-shape{background-color:rgba(232,232,232, 0.8);text-align:center;}#mermaid-svg .icon-shape p,#mermaid-svg .image-shape p{background-color:rgba(232,232,232, 0.8);padding:2px;}#mermaid-svg .icon-shape rect,#mermaid-svg .image-shape rect{opacity:0.5;background-color:rgba(232,232,232, 0.8);fill:rgba(232,232,232, 0.8);}#mermaid-svg :root{--mermaid-font-family:\"trebuchet ms\",verdana,arial,sans-serif;}#mermaid-svg .default&gt;*{fill:#f2f0ff!important;line-height:1.2!important;}#mermaid-svg .default span{fill:#f2f0ff!important;line-height:1.2!important;}#mermaid-svg .first&gt;*{fill-opacity:0!important;}#mermaid-svg .first span{fill-opacity:0!important;}#mermaid-svg .last&gt;*{fill:#bfb6fc!important;}#mermaid-svg .last span{fill:#bfb6fc!important;}</style><g><marker id=\"mermaid-svg_flowchart-v2-pointEnd\" class=\"marker flowchart-v2\" viewBox=\"0 0 10 10\" refX=\"5\" refY=\"5\" markerUnits=\"userSpaceOnUse\" markerWidth=\"8\" markerHeight=\"8\" orient=\"auto\"><path d=\"M 0 0 L 10 5 L 0 10 z\" class=\"arrowMarkerPath\" style=\"stroke-width: 1; stroke-dasharray: 1, 0;\"/></marker><marker id=\"mermaid-svg_flowchart-v2-pointStart\" class=\"marker flowchart-v2\" viewBox=\"0 0 10 10\" refX=\"4.5\" refY=\"5\" markerUnits=\"userSpaceOnUse\" markerWidth=\"8\" markerHeight=\"8\" orient=\"auto\"><path d=\"M 0 5 L 10 10 L 10 0 z\" class=\"arrowMarkerPath\" style=\"stroke-width: 1; stroke-dasharray: 1, 0;\"/></marker><marker id=\"mermaid-svg_flowchart-v2-circleEnd\" class=\"marker flowchart-v2\" viewBox=\"0 0 10 10\" refX=\"11\" refY=\"5\" markerUnits=\"userSpaceOnUse\" markerWidth=\"11\" markerHeight=\"11\" orient=\"auto\"><circle cx=\"5\" cy=\"5\" r=\"5\" class=\"arrowMarkerPath\" style=\"stroke-width: 1; stroke-dasharray: 1, 0;\"/></marker><marker id=\"mermaid-svg_flowchart-v2-circleStart\" class=\"marker flowchart-v2\" viewBox=\"0 0 10 10\" refX=\"-1\" refY=\"5\" markerUnits=\"userSpaceOnUse\" markerWidth=\"11\" markerHeight=\"11\" orient=\"auto\"><circle cx=\"5\" cy=\"5\" r=\"5\" class=\"arrowMarkerPath\" style=\"stroke-width: 1; stroke-dasharray: 1, 0;\"/></marker><marker id=\"mermaid-svg_flowchart-v2-crossEnd\" class=\"marker cross flowchart-v2\" viewBox=\"0 0 11 11\" refX=\"12\" refY=\"5.2\" markerUnits=\"userSpaceOnUse\" markerWidth=\"11\" markerHeight=\"11\" orient=\"auto\"><path d=\"M 1,1 l 9,9 M 10,1 l -9,9\" class=\"arrowMarkerPath\" style=\"stroke-width: 2; stroke-dasharray: 1, 0;\"/></marker><marker id=\"mermaid-svg_flowchart-v2-crossStart\" class=\"marker cross flowchart-v2\" viewBox=\"0 0 11 11\" refX=\"-1\" refY=\"5.2\" markerUnits=\"userSpaceOnUse\" markerWidth=\"11\" markerHeight=\"11\" orient=\"auto\"><path d=\"M 1,1 l 9,9 M 10,1 l -9,9\" class=\"arrowMarkerPath\" style=\"stroke-width: 2; stroke-dasharray: 1, 0;\"/></marker><g class=\"root\"><g class=\"clusters\"/><g class=\"edgePaths\"><path d=\"M85.711,42.188L85.711,67.188L85.711,88.188\" id=\"L___start___process_passage_0\" class=\" edge-thickness-normal edge-pattern-solid edge-thickness-normal edge-pattern-solid flowchart-link\" style=\"\" marker-end=\"url(#mermaid-svg_flowchart-v2-pointEnd)\"/><path d=\"M85.711,141.375L85.711,166.375L85.711,187.375\" id=\"L_process_passage_push_graph_0\" class=\" edge-thickness-normal edge-pattern-solid edge-thickness-normal edge-pattern-solid flowchart-link\" style=\"\" marker-end=\"url(#mermaid-svg_flowchart-v2-pointEnd)\"/><path d=\"M85.711,240.563L85.711,265.563L85.711,286.563\" id=\"L_push_graph___end___0\" class=\" edge-thickness-normal edge-pattern-solid edge-thickness-normal edge-pattern-solid flowchart-link\" style=\"\" marker-end=\"url(#mermaid-svg_flowchart-v2-pointEnd)\"/></g><g class=\"edgeLabels\"><g class=\"edgeLabel\"><g class=\"label\" transform=\"translate(0, 0)\"><foreignObject width=\"0\" height=\"0\"><div xmlns=\"http://www.w3.org/1999/xhtml\" class=\"labelBkg\" style=\"display: table-cell; white-space: nowrap; line-height: 1.5; max-width: 200px; text-align: center;\"><span class=\"edgeLabel \"></span></div></foreignObject></g></g><g class=\"edgeLabel\"><g class=\"label\" transform=\"translate(0, 0)\"><foreignObject width=\"0\" height=\"0\"><div xmlns=\"http://www.w3.org/1999/xhtml\" class=\"labelBkg\" style=\"display: table-cell; white-space: nowrap; line-height: 1.5; max-width: 200px; text-align: center;\"><span class=\"edgeLabel \"></span></div></foreignObject></g></g><g class=\"edgeLabel\"><g class=\"label\" transform=\"translate(0, 0)\"><foreignObject width=\"0\" height=\"0\"><div xmlns=\"http://www.w3.org/1999/xhtml\" class=\"labelBkg\" style=\"display: table-cell; white-space: nowrap; line-height: 1.5; max-width: 200px; text-align: center;\"><span class=\"edgeLabel \"></span></div></foreignObject></g></g></g><g class=\"nodes\"><g class=\"node default first \" id=\"flowchart-__start__-0\" transform=\"translate(85.7109375, 25.09375)\"><rect class=\"basic label-container\" style=\"fill:#f2f0ff !important;fill-opacity:0 !important\" rx=\"17.09375\" ry=\"17.09375\" x=\"-45.1328125\" y=\"-17.09375\" width=\"90.265625\" height=\"34.1875\"/><g class=\"label\" style=\"line-height:1.2 !important\" transform=\"translate(-33.359375, -9.59375)\"><rect/><foreignObject width=\"66.71875\" height=\"19.1875\"><div style=\"line-height: 1.5; display: table-cell; white-space: nowrap; max-width: 200px; text-align: center;\" xmlns=\"http://www.w3.org/1999/xhtml\"><span style=\"line-height:1.2 !important\" class=\"nodeLabel \"><p>__start__</p></span></div></foreignObject></g></g><g class=\"node default  \" id=\"flowchart-process_passage-1\" transform=\"translate(85.7109375, 116.78125)\"><rect class=\"basic label-container\" style=\"fill:#f2f0ff !important\" rx=\"5\" ry=\"5\" x=\"-77.7109375\" y=\"-24.59375\" width=\"155.421875\" height=\"49.1875\"/><g class=\"label\" style=\"line-height:1.2 !important\" transform=\"translate(-62.7109375, -9.59375)\"><rect/><foreignObject width=\"125.421875\" height=\"19.1875\"><div style=\"line-height: 1.5; display: table-cell; white-space: nowrap; max-width: 200px; text-align: center;\" xmlns=\"http://www.w3.org/1999/xhtml\"><span style=\"line-height:1.2 !important\" class=\"nodeLabel \"><p>process_passage</p></span></div></foreignObject></g></g><g class=\"node default  \" id=\"flowchart-push_graph-2\" transform=\"translate(85.7109375, 215.96875)\"><rect class=\"basic label-container\" style=\"fill:#f2f0ff !important\" rx=\"5\" ry=\"5\" x=\"-57.2578125\" y=\"-24.59375\" width=\"114.515625\" height=\"49.1875\"/><g class=\"label\" style=\"line-height:1.2 !important\" transform=\"translate(-42.2578125, -9.59375)\"><rect/><foreignObject width=\"84.515625\" height=\"19.1875\"><div style=\"line-height: 1.5; display: table-cell; white-space: nowrap; max-width: 200px; text-align: center;\" xmlns=\"http://www.w3.org/1999/xhtml\"><span style=\"line-height:1.2 !important\" class=\"nodeLabel \"><p>push_graph</p></span></div></foreignObject></g></g><g class=\"node default last \" id=\"flowchart-__end__-3\" transform=\"translate(85.7109375, 307.65625)\"><rect class=\"basic label-container\" style=\"fill:#bfb6fc !important\" rx=\"17.09375\" ry=\"17.09375\" x=\"-42.921875\" y=\"-17.09375\" width=\"85.84375\" height=\"34.1875\"/><g class=\"label\" style=\"line-height:1.2 !important\" transform=\"translate(-31.1484375, -9.59375)\"><rect/><foreignObject width=\"62.296875\" height=\"19.1875\"><div style=\"line-height: 1.5; display: table-cell; white-space: nowrap; max-width: 200px; text-align: center;\" xmlns=\"http://www.w3.org/1999/xhtml\"><span style=\"line-height:1.2 !important\" class=\"nodeLabel \"><p>__end__</p></span></div></foreignObject></g></g></g></g></g></svg>"
      ],
      "text/plain": [
       "<mermaid.__main__.Mermaid at 0x1187d65d0>"
      ]
     },
     "execution_count": 14,
     "metadata": {},
     "output_type": "execute_result"
    }
   ],
   "source": [
    "import mermaid as md \n",
    "from mermaid.graph import Graph \n",
    "\n",
    "render = md.Mermaid(mermaid_code)\n",
    "\n",
    "render"
   ]
  },
  {
   "cell_type": "code",
   "execution_count": 15,
   "id": "31ee89b0",
   "metadata": {},
   "outputs": [
    {
     "name": "stdout",
     "output_type": "stream",
     "text": [
      "[{'node': 'Jaguar', 'relationships': [{'type': 'predator', 'target': 'Capybara'}, {'type': 'predator', 'target': 'Green Anaconda'}], 'ecosystem': 'tropical rainforest'}, {'node': 'Capybara', 'relationships': [], 'ecosystem': 'tropical rainforest'}, {'node': 'Green Anaconda', 'relationships': [{'type': 'competitor', 'target': 'Harpy Eagle'}], 'ecosystem': 'tropical rainforest'}, {'node': 'Harpy Eagle', 'relationships': [{'type': 'predator', 'target': 'Howler Monkey'}, {'type': 'predator', 'target': 'Sloth'}], 'ecosystem': 'tropical rainforest'}, {'node': 'Howler Monkey', 'relationships': [{'type': 'taxonomically_related', 'target': 'Spider Monkey'}], 'ecosystem': 'tropical rainforest'}, {'node': 'Spider Monkey', 'relationships': [{'type': 'taxonomically_related', 'target': 'Howler Monkey'}], 'ecosystem': 'tropical rainforest'}, {'node': 'Sloth', 'relationships': [{'type': 'symbiont', 'target': 'Trentepohlia spp.'}, {'type': 'habitat_provider', 'target': 'Moth'}], 'ecosystem': 'tropical rainforest'}, {'node': 'Trentepohlia spp.', 'relationships': [], 'ecosystem': 'tropical rainforest'}, {'node': 'Moth', 'relationships': [{'type': 'habitat_user', 'target': 'Sloth'}], 'ecosystem': 'tropical rainforest'}]\n",
      "input_variables=[] input_types={} partial_variables={} messages=[AIMessage(content='Graph created Successfully: \\n {\\'prompt\\': \\' [\\\\n       {\\\\n          \"node\": \"Jaguar\",\\\\n          \"relationships\": [\\\\n             {\\\\n                \"type\": \"predator\",\\\\n                \"target\": \"Capybara\"\\\\n             },\\\\n             {\\\\n                \"type\": \"predator\",\\\\n                \"target\": \"Green Anaconda\"\\\\n             }\\\\n          ],\\\\n          \"ecosystem\": \"tropical rainforest\"\\\\n       },\\\\n       {\\\\n          \"node\": \"Capybara\",\\\\n          \"relationships\": [],\\\\n          \"ecosystem\": \"tropical rainforest\"\\\\n       },\\\\n       {\\\\n          \"node\": \"Green Anaconda\",\\\\n          \"relationships\": [\\\\n             {\\\\n                \"type\": \"competitor\",\\\\n                \"target\": \"Harpy Eagle\"\\\\n             }\\\\n          ],\\\\n          \"ecosystem\": \"tropical rainforest\"\\\\n       },\\\\n       {\\\\n          \"node\": \"Harpy Eagle\",\\\\n          \"relationships\": [\\\\n             {\\\\n                \"type\": \"predator\",\\\\n                \"target\": \"Howler Monkey\"\\\\n             },\\\\n             {\\\\n                \"type\": \"predator\",\\\\n                \"target\": \"Sloth\"\\\\n             }\\\\n          ],\\\\n          \"ecosystem\": \"tropical rainforest\"\\\\n       },\\\\n       {\\\\n          \"node\": \"Howler Monkey\",\\\\n          \"relationships\": [\\\\n             {\\\\n                \"type\": \"taxonomically_related\",\\\\n                \"target\": \"Spider Monkey\"\\\\n             }\\\\n          ],\\\\n          \"ecosystem\": \"tropical rainforest\"\\\\n       },\\\\n       {\\\\n          \"node\": \"Spider Monkey\",\\\\n          \"relationships\": [\\\\n             {\\\\n                \"type\": \"taxonomically_related\",\\\\n                \"target\": \"Howler Monkey\"\\\\n             }\\\\n          ],\\\\n          \"ecosystem\": \"tropical rainforest\"\\\\n       },\\\\n       {\\\\n          \"node\": \"Sloth\",\\\\n          \"relationships\": [\\\\n             {\\\\n                \"type\": \"symbiont\",\\\\n                \"target\": \"Trentepohlia spp.\"\\\\n             },\\\\n             {\\\\n                \"type\": \"habitat_provider\",\\\\n                \"target\": \"Moth\"\\\\n             }\\\\n          ],\\\\n          \"ecosystem\": \"tropical rainforest\"\\\\n       },\\\\n       {\\\\n          \"node\": \"Trentepohlia spp.\",\\\\n          \"relationships\": [],\\\\n          \"ecosystem\": \"tropical rainforest\"\\\\n       },\\\\n       {\\\\n          \"node\": \"Moth\",\\\\n          \"relationships\": [\\\\n             {\\\\n                \"type\": \"habitat_user\",\\\\n                \"target\": \"Sloth\"\\\\n             }\\\\n          ],\\\\n          \"ecosystem\": \"tropical rainforest\"\\\\n       }\\\\n    ]\\', \\'json\\': [{\\'node\\': \\'Jaguar\\', \\'relationships\\': [{\\'type\\': \\'predator\\', \\'target\\': \\'Capybara\\'}, {\\'type\\': \\'predator\\', \\'target\\': \\'Green Anaconda\\'}], \\'ecosystem\\': \\'tropical rainforest\\'}, {\\'node\\': \\'Capybara\\', \\'relationships\\': [], \\'ecosystem\\': \\'tropical rainforest\\'}, {\\'node\\': \\'Green Anaconda\\', \\'relationships\\': [{\\'type\\': \\'competitor\\', \\'target\\': \\'Harpy Eagle\\'}], \\'ecosystem\\': \\'tropical rainforest\\'}, {\\'node\\': \\'Harpy Eagle\\', \\'relationships\\': [{\\'type\\': \\'predator\\', \\'target\\': \\'Howler Monkey\\'}, {\\'type\\': \\'predator\\', \\'target\\': \\'Sloth\\'}], \\'ecosystem\\': \\'tropical rainforest\\'}, {\\'node\\': \\'Howler Monkey\\', \\'relationships\\': [{\\'type\\': \\'taxonomically_related\\', \\'target\\': \\'Spider Monkey\\'}], \\'ecosystem\\': \\'tropical rainforest\\'}, {\\'node\\': \\'Spider Monkey\\', \\'relationships\\': [{\\'type\\': \\'taxonomically_related\\', \\'target\\': \\'Howler Monkey\\'}], \\'ecosystem\\': \\'tropical rainforest\\'}, {\\'node\\': \\'Sloth\\', \\'relationships\\': [{\\'type\\': \\'symbiont\\', \\'target\\': \\'Trentepohlia spp.\\'}, {\\'type\\': \\'habitat_provider\\', \\'target\\': \\'Moth\\'}], \\'ecosystem\\': \\'tropical rainforest\\'}, {\\'node\\': \\'Trentepohlia spp.\\', \\'relationships\\': [], \\'ecosystem\\': \\'tropical rainforest\\'}, {\\'node\\': \\'Moth\\', \\'relationships\\': [{\\'type\\': \\'habitat_user\\', \\'target\\': \\'Sloth\\'}], \\'ecosystem\\': \\'tropical rainforest\\'}]}', additional_kwargs={}, response_metadata={}, id='4194dfde-1c12-44e1-a6d0-40fd3d147c81'), HumanMessagePromptTemplate(prompt=PromptTemplate(input_variables=[], input_types={}, partial_variables={}, template='\\n'), additional_kwargs={})]\n",
      "input_variables=[] input_types={} partial_variables={} messages=[AIMessage(content=\"Graph push successful with {'_contains_updates': True, 'properties_set': 1} nodes and {'_contains_updates': True, 'relationships_created': 1, 'properties_set': 1}\", additional_kwargs={}, response_metadata={}, id='847ae51c-c937-4ae7-9646-903d52d7c483'), HumanMessagePromptTemplate(prompt=PromptTemplate(input_variables=[], input_types={}, partial_variables={}, template='\\n'), additional_kwargs={})]\n"
     ]
    }
   ],
   "source": [
    "# Initialize with input passage\n",
    "initial_state = {\"text\": passage, \"messages\": []}\n",
    "\n",
    "# Run the graph\n",
    "result = graph.invoke(initial_state)\n",
    "\n",
    "for m in result[\"messages\"]:\n",
    "    print(m + \"\\n\")"
   ]
  },
  {
   "cell_type": "code",
   "execution_count": null,
   "id": "889616d6",
   "metadata": {},
   "outputs": [],
   "source": []
  },
  {
   "cell_type": "code",
   "execution_count": null,
   "id": "3f366c14",
   "metadata": {},
   "outputs": [],
   "source": []
  }
 ],
 "metadata": {
  "kernelspec": {
   "display_name": "venv",
   "language": "python",
   "name": "python3"
  },
  "language_info": {
   "codemirror_mode": {
    "name": "ipython",
    "version": 3
   },
   "file_extension": ".py",
   "mimetype": "text/x-python",
   "name": "python",
   "nbconvert_exporter": "python",
   "pygments_lexer": "ipython3",
   "version": "3.13.3"
  }
 },
 "nbformat": 4,
 "nbformat_minor": 5
}
